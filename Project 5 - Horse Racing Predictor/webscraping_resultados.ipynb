{
 "cells": [
  {
   "cell_type": "code",
   "execution_count": null,
   "metadata": {},
   "outputs": [],
   "source": [
    "username = input(\"Enter your username: \")\n",
    "password = input(\"Enter your password: \")\n",
    "\n",
    "if username == \"\" or password == \"\":\n",
    "    raise Exception(\"Username or password cannot be empty\")\n",
    "\n",
    "from selenium import webdriver\n",
    "from selenium.webdriver.common.by import By\n",
    "from selenium.webdriver.support.ui import WebDriverWait\n",
    "from selenium.webdriver.support import expected_conditions as EC\n",
    "from selenium.webdriver.common.keys import Keys\n",
    "\n",
    "driver = webdriver.Firefox()  # or webdriver.Chrome(), depending on your browser\n",
    "driver.get(\"https://elturf.com/dashboard-login\")\n",
    "\n",
    "username_input = WebDriverWait(driver, 4).until(EC.presence_of_element_located((By.NAME, \"form_contacto_usuario\")))\n",
    "password_input = WebDriverWait(driver, 5).until(EC.presence_of_element_located((By.NAME, \"form_contacto_passwd2\")))\n",
    "\n",
    "username_input.send_keys(username)\n",
    "password_input.send_keys(password)\n",
    "\n",
    "# Submit the form\n",
    "password_input.submit()\n",
    "\n",
    "# Check for error message\n",
    "error_message = WebDriverWait(driver, 6).until(EC.presence_of_element_located((By.ID, \"error_login\")))\n",
    "if error_message.is_displayed():\n",
    "    raise Exception(\"Incorrect username or password\")\n",
    "else:\n",
    "    print(\"Successfully logged in\") \n",
    "\n",
    "# Now you're logged in and you can navigate to the page you're interested in\n",
    "driver.get('https://elturf.com/carreras-ultimos-resultados')\n"
   ]
  },
  {
   "cell_type": "code",
   "execution_count": 32,
   "metadata": {},
   "outputs": [],
   "source": [
    "# Wait for the page to load and then click the \"Ver Todos\" button\n",
    "ver_todos_button = WebDriverWait(driver, 3).until(EC.presence_of_element_located((By.XPATH, \"//strong[contains(text(), 'Ver Todos')]\")))\n",
    "ver_todos_button.click()"
   ]
  },
  {
   "cell_type": "code",
   "execution_count": null,
   "metadata": {},
   "outputs": [],
   "source": [
    "# Wait for the data to load and then extract it\n",
    "data_elements = WebDriverWait(driver, 3).until(EC.presence_of_all_elements_located((By.CSS_SELECTOR, \"body.tr-homepage div.container div#app-elt div div div\")))\n",
    "data = [element.text for element in data_elements]\n",
    "print('\\n'.join(data))\n",
    "\n",
    "open('extracted_data.txt', 'w').write('\\n'.join(data))"
   ]
  },
  {
   "cell_type": "code",
   "execution_count": null,
   "metadata": {},
   "outputs": [],
   "source": [
    "# Do your scraping here\n",
    "\n",
    "driver.close()"
   ]
  }
 ],
 "metadata": {
  "kernelspec": {
   "display_name": "Python 3",
   "language": "python",
   "name": "python3"
  },
  "language_info": {
   "codemirror_mode": {
    "name": "ipython",
    "version": 3
   },
   "file_extension": ".py",
   "mimetype": "text/x-python",
   "name": "python",
   "nbconvert_exporter": "python",
   "pygments_lexer": "ipython3",
   "version": "3.12.2"
  }
 },
 "nbformat": 4,
 "nbformat_minor": 2
}
